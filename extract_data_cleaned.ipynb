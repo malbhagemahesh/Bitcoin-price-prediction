{
 "cells": [
  {
   "cell_type": "markdown",
   "metadata": {},
   "source": [
    "This is the notebook to scrap the missing data from bitcoin dataset from kaggle."
   ]
  },
  {
   "cell_type": "code",
   "execution_count": null,
   "metadata": {},
   "outputs": [],
   "source": [
    "import pandas as pd \n",
    "import numpy as np\n",
    "from datetime import datetime\n",
    "from bs4 import BeautifulSoup\n",
    "import requests\n",
    "from selenium import webdriver\n",
    "from selenium.webdriver.common.by import By\n",
    "from selenium.webdriver.support.ui import WebDriverWait\n",
    "from time import sleep"
   ]
  },
  {
   "cell_type": "code",
   "execution_count": null,
   "metadata": {},
   "outputs": [],
   "source": [
    "data=pd.read_csv('bitcoin.csv') "
   ]
  },
  {
   "cell_type": "code",
   "execution_count": null,
   "metadata": {},
   "outputs": [],
   "source": [
    "nn_df=data[data.Open.isnull()]      #create mask for getting rows with null value"
   ]
  },
  {
   "cell_type": "code",
   "execution_count": null,
   "metadata": {},
   "outputs": [],
   "source": [
    "nn_df['dates'] = nn_df['Timestamp'].apply(lambda d: datetime.fromtimestamp(int(d)).strftime('%Y-%m-%d')) #extract the dates for missing rows from unix time"
   ]
  },
  {
   "cell_type": "code",
   "execution_count": null,
   "metadata": {},
   "outputs": [],
   "source": [
    "uniq_dates=list(nn_df['dates'].unique())"
   ]
  },
  {
   "cell_type": "markdown",
   "metadata": {},
   "source": [
    "The dataset provided on kaggle has been abstracted from [bitcoincharts.com]('https://bitcoincharts.com/charts/bitstampUSD#rg60zczsg2021-04-07zeg2021-06-06ztgSzm1g10zm2g25zv'), this details is been provided in the description section of kaggle dataset. So we need to extract the from data from web site using webscraping and we will use Selenium to extract those data.\n",
    "\n",
    "<img src='site.png'/>\n",
    "\n",
    "On the above image , the is link with name `Load raw data`, it contains the value we required . We need to install [Selenium]('https://www.selenium.dev/') and [chrome web driver]('https://sites.google.com/a/chromium.org/chromedriver/') to access chrome for scraping data."
   ]
  },
  {
   "cell_type": "code",
   "execution_count": null,
   "metadata": {},
   "outputs": [],
   "source": [
    "df=[] ##data would be stored in this list"
   ]
  },
  {
   "cell_type": "code",
   "execution_count": null,
   "metadata": {},
   "outputs": [],
   "source": [
    "for date in uniq_dates:\n",
    "    driver = webdriver.Chrome(executable_path='')  ## put your path for chrome driver extension    \n",
    "    url='https://bitcoincharts.com/charts/bitstampUSD#rg60zczsg'+date+'zeg'+date+'ztgSzm1g10zm2g25zv'\n",
    "    driver.get(url)\n",
    "    driver.find_element_by_partial_link_text(\"Load raw data\").click()      #click on the `Load raw data`\n",
    "    sleep(1)\n",
    "    soup=BeautifulSoup(driver.page_source,'html.parser')\n",
    "    mydiv=soup.find('table',{'id':'chart_table'})\n",
    "    rows=mydiv.find('tbody').findAll('tr')\n",
    "    try:\n",
    "        for tr in rows:\n",
    "            if(tr.findAll('td')[1].text!='—'):\n",
    "                df.append([td.text.strip()  for td in tr.findAll('td')])\n",
    "    except:\n",
    "        pass\n",
    "    sleep(1)\n",
    "    driver.quit()"
   ]
  },
  {
   "cell_type": "markdown",
   "metadata": {},
   "source": [
    "This will took around 10-11 hours to extract all required data."
   ]
  },
  {
   "cell_type": "code",
   "execution_count": null,
   "metadata": {},
   "outputs": [],
   "source": [
    "len(df)"
   ]
  },
  {
   "cell_type": "markdown",
   "metadata": {},
   "source": [
    "We have extracted 276866 rows of data."
   ]
  },
  {
   "cell_type": "code",
   "execution_count": null,
   "metadata": {},
   "outputs": [],
   "source": [
    "cp=df.copy()"
   ]
  },
  {
   "cell_type": "code",
   "execution_count": null,
   "metadata": {},
   "outputs": [],
   "source": [
    "cp[0]"
   ]
  },
  {
   "cell_type": "code",
   "execution_count": null,
   "metadata": {},
   "outputs": [],
   "source": [
    "import pickle"
   ]
  },
  {
   "cell_type": "code",
   "execution_count": null,
   "metadata": {},
   "outputs": [],
   "source": [
    "with open(\"bitcoincharts.txt\", \"wb\") as fp:         ## saving data in text format\n",
    "    pickle.dump(cp, fp)"
   ]
  },
  {
   "cell_type": "code",
   "execution_count": null,
   "metadata": {},
   "outputs": [],
   "source": [
    "bitcoin=pd.DataFrame(cp,columns=['Timestamp', 'Open', 'High', 'Low', 'Close', 'Volume_(BTC)',\n",
    "       'Volume_(Currency)', 'Weighted_Price'])"
   ]
  },
  {
   "cell_type": "code",
   "execution_count": null,
   "metadata": {},
   "outputs": [],
   "source": [
    "bitcoin"
   ]
  },
  {
   "cell_type": "code",
   "execution_count": null,
   "metadata": {},
   "outputs": [],
   "source": [
    "bitcoin.to_csv('bitcoinchart.csv')"
   ]
  },
  {
   "cell_type": "code",
   "execution_count": null,
   "metadata": {},
   "outputs": [],
   "source": [
    "bitcoin_unix=pd.DataFrame(cp,columns=['Timestamp', 'Open', 'High', 'Low', 'Close', 'Volume_(BTC)',\n",
    "       'Volume_(Currency)', 'Weighted_Price'])"
   ]
  },
  {
   "cell_type": "code",
   "execution_count": null,
   "metadata": {},
   "outputs": [],
   "source": [
    "bitcoin_unix"
   ]
  },
  {
   "cell_type": "markdown",
   "metadata": {},
   "source": [
    "The date-time has been extracted in timestamp ,but we need to have unix time format in order to append these to previous data."
   ]
  },
  {
   "cell_type": "code",
   "execution_count": null,
   "metadata": {},
   "outputs": [],
   "source": [
    "bitcoin_unix.info()  "
   ]
  },
  {
   "cell_type": "code",
   "execution_count": null,
   "metadata": {},
   "outputs": [],
   "source": [
    "bitcoin_unix['Timestamp']=(pd.to_datetime(bitcoin_unix.Timestamp)-pd.Timestamp(\"1970-01-01\")) // pd.Timedelta('1s')   ## converting date-time to unix format\n"
   ]
  },
  {
   "cell_type": "code",
   "execution_count": null,
   "metadata": {},
   "outputs": [],
   "source": [
    "bitcoin_unix.to_csv('bitcoinunix.csv')"
   ]
  },
  {
   "cell_type": "code",
   "execution_count": null,
   "metadata": {},
   "outputs": [],
   "source": []
  }
 ],
 "metadata": {
  "kernelspec": {
   "display_name": "Python 3.9.5 64-bit ('Python39')",
   "name": "python395jvsc74a57bd0ecb835f69adf633d6cd4c23f01dec38d73396ce3bc08b9c000c89a271ea77b6c"
  },
  "language_info": {
   "codemirror_mode": {
    "name": "ipython",
    "version": 3
   },
   "file_extension": ".py",
   "mimetype": "text/x-python",
   "name": "python",
   "nbconvert_exporter": "python",
   "pygments_lexer": "ipython3",
   "version": "3.9.5"
  },
  "metadata": {
   "interpreter": {
    "hash": "ecb835f69adf633d6cd4c23f01dec38d73396ce3bc08b9c000c89a271ea77b6c"
   }
  }
 },
 "nbformat": 4,
 "nbformat_minor": 2
}
