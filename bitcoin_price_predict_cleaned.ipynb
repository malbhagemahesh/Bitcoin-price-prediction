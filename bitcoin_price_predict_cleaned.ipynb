{
 "cells": [
  {
   "cell_type": "markdown",
   "metadata": {
    "id": "9qiaB14Sp9Mg"
   },
   "source": [
    "# Bitcoin Price Prediction\n",
    "\n",
    "Bitcoin is a digital currency that was created in January 2009. Bitcoin is a type of cryptocurrency. There are no physical bitcoins, only balances kept on a public ledger that everyone has transparent access to. All bitcoin transactions are verified by a massive amount of computing power. Bitcoins are not issued or backed by any banks or governments, nor are individual bitcoins.<br>\n",
    "<t>The bitcoin system is a collection of computers (also referred to as \"nodes\" or \"miners\") that all run bitcoin's code and store its blockchain. Metaphorically, a blockchain can be thought of as a collection of blocks. In each block is a collection of transactions. Because all the computers running the blockchain has the same list of blocks and transactions, and can transparently see these new blocks being filled with new bitcoin transactions, no one can cheat the system.\n",
    "<br>\n",
    "Anyone, whether they run a bitcoin \"node\" or not, can see these transactions occurring live. In order to achieve a nefarious act, a bad actor would need to operate 51% of the computing power that makes up bitcoin. Bitcoin has around 12,000 nodes, as of January 2021, and this number is growing.\n",
    "\n",
    "So we will view the market trends and wheather its still worth it to invest in it?"
   ]
  },
  {
   "cell_type": "code",
   "execution_count": null,
   "metadata": {
    "execution": {
     "iopub.execute_input": "2021-06-18T19:37:47.674503Z",
     "iopub.status.busy": "2021-06-18T19:37:47.674056Z",
     "iopub.status.idle": "2021-06-18T19:37:47.694083Z",
     "shell.execute_reply": "2021-06-18T19:37:47.693296Z",
     "shell.execute_reply.started": "2021-06-18T19:37:47.674469Z"
    }
   },
   "outputs": [],
   "source": [
    "# import os\n",
    "# for dirname, _, filenames in os.walk('/kaggle/input'):\n",
    "#     for filename in filenames:\n",
    "#         print(os.path.join(dirname, filename))"
   ]
  },
  {
   "cell_type": "code",
   "execution_count": null,
   "metadata": {
    "execution": {
     "iopub.execute_input": "2021-06-18T19:37:47.713047Z",
     "iopub.status.busy": "2021-06-18T19:37:47.711936Z",
     "iopub.status.idle": "2021-06-18T19:37:48.585287Z",
     "shell.execute_reply": "2021-06-18T19:37:48.584459Z",
     "shell.execute_reply.started": "2021-06-18T19:37:47.713006Z"
    },
    "id": "AxKIJ2XTYKVr"
   },
   "outputs": [],
   "source": [
    "#importing libs\n",
    "import pandas as pd \n",
    "import numpy as np\n",
    "from datetime import datetime\n",
    "import requests\n",
    "from time import sleep\n",
    "import matplotlib.pyplot as plt\n",
    "from sklearn.metrics import r2_score,mean_squared_error"
   ]
  },
  {
   "cell_type": "markdown",
   "metadata": {
    "id": "2hif879JrksX"
   },
   "source": [
    "We have the kaggle dataset ,can be found [here](https://www.kaggle.com/mczielinski/bitcoin-historical-data).\n"
   ]
  },
  {
   "cell_type": "code",
   "execution_count": null,
   "metadata": {
    "execution": {
     "iopub.execute_input": "2021-06-18T19:37:48.587184Z",
     "iopub.status.busy": "2021-06-18T19:37:48.586858Z",
     "iopub.status.idle": "2021-06-18T19:37:54.814770Z",
     "shell.execute_reply": "2021-06-18T19:37:54.813884Z",
     "shell.execute_reply.started": "2021-06-18T19:37:48.587149Z"
    },
    "id": "wRSh0FUpYI6B"
   },
   "outputs": [],
   "source": [
    "data=pd.read_csv('bitcoin.csv')"
   ]
  },
  {
   "cell_type": "code",
   "execution_count": null,
   "metadata": {
    "execution": {
     "iopub.execute_input": "2021-06-18T19:37:54.817928Z",
     "iopub.status.busy": "2021-06-18T19:37:54.817349Z",
     "iopub.status.idle": "2021-06-18T19:37:54.838942Z",
     "shell.execute_reply": "2021-06-18T19:37:54.837986Z",
     "shell.execute_reply.started": "2021-06-18T19:37:54.817882Z"
    },
    "id": "ClG8jGBkYI6E",
    "outputId": "96a4d336-2473-4cc1-b813-67f97fb074ec"
   },
   "outputs": [],
   "source": [
    "data.info()"
   ]
  },
  {
   "cell_type": "code",
   "execution_count": null,
   "metadata": {
    "execution": {
     "iopub.execute_input": "2021-06-18T19:37:54.840741Z",
     "iopub.status.busy": "2021-06-18T19:37:54.840360Z",
     "iopub.status.idle": "2021-06-18T19:37:54.865292Z",
     "shell.execute_reply": "2021-06-18T19:37:54.864537Z",
     "shell.execute_reply.started": "2021-06-18T19:37:54.840703Z"
    },
    "id": "Ja5GoYOKYI6B",
    "outputId": "9a67b4df-3b86-4f7b-a967-e9deb395f20e"
   },
   "outputs": [],
   "source": [
    "data"
   ]
  },
  {
   "cell_type": "markdown",
   "metadata": {
    "id": "wHpj_xq8r3PD"
   },
   "source": [
    "From above we can see that their are many null values, so let's check how many null values are their:"
   ]
  },
  {
   "cell_type": "markdown",
   "metadata": {},
   "source": [
    "### Data cleaning "
   ]
  },
  {
   "cell_type": "code",
   "execution_count": null,
   "metadata": {
    "execution": {
     "iopub.execute_input": "2021-06-18T19:37:54.867799Z",
     "iopub.status.busy": "2021-06-18T19:37:54.867550Z",
     "iopub.status.idle": "2021-06-18T19:37:54.941540Z",
     "shell.execute_reply": "2021-06-18T19:37:54.940178Z",
     "shell.execute_reply.started": "2021-06-18T19:37:54.867775Z"
    },
    "id": "vErvK583YI6C",
    "outputId": "6e714ea2-f937-408a-8c79-f5552bce2e01"
   },
   "outputs": [],
   "source": [
    "for col in data.columns:                \n",
    "    print(\"Number of null values in col \",col,\" is: \",data[col].isnull().sum()) ## checking total null values in each col"
   ]
  },
  {
   "cell_type": "markdown",
   "metadata": {
    "id": "whm0xi8nysWV"
   },
   "source": [
    "The total null values in each column is 1243608. <br>\n",
    "It might be the case that each col have null values at different indexes , i.e. we need to check that whether whole row is null or these null values are from different cells. <br>\n",
    "\n",
    "I am using concept of masking , which generate a bool value for the index places that are null.\n",
    "Ex. : \n",
    "\n",
    "|Open|High|\n",
    "|---|---|\n",
    "|4.39|4.39|\n",
    "|nan|nan|\n",
    "|nan|nan|\n",
    "|58714.31|58714.31|\n",
    "|...|...|\n",
    "\n",
    "The masking for each col would be like:\n",
    "* Open: [false,true,true,false,...]\n",
    "* High: [false,true,true,false,...]\n",
    "\n",
    "Then we will take `and` operation of all these col values , after masking all of them we would get the the bool mask which contains `true` value which shows row having all col value `null`.\n",
    "\n",
    "=> Open & High : [false,true,true,false,...]\n"
   ]
  },
  {
   "cell_type": "code",
   "execution_count": null,
   "metadata": {
    "execution": {
     "iopub.execute_input": "2021-06-18T19:37:54.944500Z",
     "iopub.status.busy": "2021-06-18T19:37:54.944208Z",
     "iopub.status.idle": "2021-06-18T19:37:54.995292Z",
     "shell.execute_reply": "2021-06-18T19:37:54.994276Z",
     "shell.execute_reply.started": "2021-06-18T19:37:54.944474Z"
    },
    "id": "yX7e3Jr3YI6D",
    "outputId": "f8220c26-259d-43c5-a7d0-402779293b2e"
   },
   "outputs": [],
   "source": [
    "m1=data.Open.isnull() #bool value for null value for Open col\n",
    "for col in data.columns[2:]: # iterate over the col and find mask \n",
    "    m2=data[col].isnull()\n",
    "    m1=m1&m2        # take 'and' operator for bool mask columns\n",
    "\n",
    "print(m1.sum())"
   ]
  },
  {
   "cell_type": "markdown",
   "metadata": {
    "id": "Cf22U1hm3XEz"
   },
   "source": [
    "The total null rows is 1243608 and if we observe from above the total null values in each col is also 1243608 , this shows that these are the null rows only . And total null values are 4857377, so the missing rows are just 1/4th of total values. "
   ]
  },
  {
   "cell_type": "markdown",
   "metadata": {},
   "source": [
    "### Missing values"
   ]
  },
  {
   "cell_type": "code",
   "execution_count": null,
   "metadata": {
    "execution": {
     "iopub.execute_input": "2021-06-18T19:37:54.997605Z",
     "iopub.status.busy": "2021-06-18T19:37:54.997240Z",
     "iopub.status.idle": "2021-06-18T19:37:55.082348Z",
     "shell.execute_reply": "2021-06-18T19:37:55.081477Z",
     "shell.execute_reply.started": "2021-06-18T19:37:54.997565Z"
    },
    "id": "xC9um1j3YI6D"
   },
   "outputs": [],
   "source": [
    "nn_df=data[data.Open.isnull()] ##getting the null rows"
   ]
  },
  {
   "cell_type": "code",
   "execution_count": null,
   "metadata": {
    "execution": {
     "iopub.execute_input": "2021-06-18T19:37:55.084013Z",
     "iopub.status.busy": "2021-06-18T19:37:55.083671Z",
     "iopub.status.idle": "2021-06-18T19:37:55.087932Z",
     "shell.execute_reply": "2021-06-18T19:37:55.087003Z",
     "shell.execute_reply.started": "2021-06-18T19:37:55.083977Z"
    },
    "id": "V73Qs5XNYI6E"
   },
   "outputs": [],
   "source": [
    "index=nn_df.index   ##getting the index value of null rows "
   ]
  },
  {
   "cell_type": "code",
   "execution_count": null,
   "metadata": {
    "execution": {
     "iopub.execute_input": "2021-06-18T19:37:55.089960Z",
     "iopub.status.busy": "2021-06-18T19:37:55.089385Z",
     "iopub.status.idle": "2021-06-18T19:38:00.390079Z",
     "shell.execute_reply": "2021-06-18T19:38:00.388190Z",
     "shell.execute_reply.started": "2021-06-18T19:37:55.089893Z"
    },
    "id": "vdpuQV-kYI6F",
    "outputId": "8aa4758a-ec48-4818-e897-89954b6f7506"
   },
   "outputs": [],
   "source": [
    "nn_df['dates'] = nn_df['Timestamp'].apply(lambda d: datetime.fromtimestamp(int(d)).strftime('%Y-%m-%d'))"
   ]
  },
  {
   "cell_type": "code",
   "execution_count": null,
   "metadata": {
    "execution": {
     "iopub.execute_input": "2021-06-18T19:38:00.391680Z",
     "iopub.status.busy": "2021-06-18T19:38:00.391350Z",
     "iopub.status.idle": "2021-06-18T19:38:00.409393Z",
     "shell.execute_reply": "2021-06-18T19:38:00.408187Z",
     "shell.execute_reply.started": "2021-06-18T19:38:00.391643Z"
    },
    "id": "sHG_mkozYI6F",
    "outputId": "aecaadd1-9ada-418b-c2de-8f8f919778d7"
   },
   "outputs": [],
   "source": [
    "nn_df"
   ]
  },
  {
   "cell_type": "markdown",
   "metadata": {
    "id": "7LMovUWG44-9"
   },
   "source": [
    "Their are many null values :\n",
    "- if we fill those with 0 then we cannot find proper trend for those missing values.\n",
    "- if we fill them with mean values, then it might be the case that their are many high values and less values so we might see the drastic change while seeing trend among them because those are 1/4th of the total values.\n",
    "\n",
    "So , we need to find from where the data has been collected from . While searching for it i found this [link](https://stackoverflow.com/questions/29425894/scraping-data-from-bitcoincharts), but if one used to find the data from that link for the dates we get for null rows , then you get no values for those particular dates , this might shows that data for those values has not been recorded or available.<br>\n",
    "I tried to find from the dataset has been collected from ,then i found in the description of kaggle dataset that data has been collected from [bitcoincharts](\n",
    "https://bitcoincharts.com/charts).\n",
    "\n",
    "I have write another `extract.ipynb` notebook to extract data from the above site using Selenium. "
   ]
  },
  {
   "cell_type": "code",
   "execution_count": null,
   "metadata": {
    "execution": {
     "iopub.execute_input": "2021-06-18T19:38:00.411976Z",
     "iopub.status.busy": "2021-06-18T19:38:00.411156Z",
     "iopub.status.idle": "2021-06-18T19:38:00.514975Z",
     "shell.execute_reply": "2021-06-18T19:38:00.514138Z",
     "shell.execute_reply.started": "2021-06-18T19:38:00.411933Z"
    },
    "id": "MgqnNFWrYI6G"
   },
   "outputs": [],
   "source": [
    "uniq_dates=list(nn_df['dates'].unique()) ##getting list of dates for null rows"
   ]
  },
  {
   "cell_type": "code",
   "execution_count": null,
   "metadata": {
    "execution": {
     "iopub.execute_input": "2021-06-18T19:38:00.516666Z",
     "iopub.status.busy": "2021-06-18T19:38:00.516297Z",
     "iopub.status.idle": "2021-06-18T19:38:00.527297Z",
     "shell.execute_reply": "2021-06-18T19:38:00.525412Z",
     "shell.execute_reply.started": "2021-06-18T19:38:00.516614Z"
    },
    "id": "rEsC-aaKYI6G",
    "outputId": "77533843-25d6-4e07-8ed8-8ae2d396075f"
   },
   "outputs": [],
   "source": [
    "data.iloc[index[-1]]"
   ]
  },
  {
   "cell_type": "markdown",
   "metadata": {},
   "source": [
    "### Merge Scraped Data"
   ]
  },
  {
   "cell_type": "markdown",
   "metadata": {
    "id": "mWBvU_aC-KED"
   },
   "source": [
    "From the above scrapped notebook , the data has been stored in `bitcoinunix.csv` ."
   ]
  },
  {
   "cell_type": "code",
   "execution_count": null,
   "metadata": {
    "execution": {
     "iopub.execute_input": "2021-06-18T19:38:00.528811Z",
     "iopub.status.busy": "2021-06-18T19:38:00.528487Z",
     "iopub.status.idle": "2021-06-18T19:38:00.999909Z",
     "shell.execute_reply": "2021-06-18T19:38:00.999061Z",
     "shell.execute_reply.started": "2021-06-18T19:38:00.528781Z"
    },
    "id": "CNlVVhQBYI6G"
   },
   "outputs": [],
   "source": [
    "scrapdata=pd.read_csv('bitcoinunix.csv',index_col=[0]) ## reading scrapped data."
   ]
  },
  {
   "cell_type": "code",
   "execution_count": null,
   "metadata": {
    "execution": {
     "iopub.execute_input": "2021-06-18T19:38:01.001515Z",
     "iopub.status.busy": "2021-06-18T19:38:01.001159Z",
     "iopub.status.idle": "2021-06-18T19:38:01.018975Z",
     "shell.execute_reply": "2021-06-18T19:38:01.017932Z",
     "shell.execute_reply.started": "2021-06-18T19:38:01.001479Z"
    },
    "id": "twNPXLnjYI6G",
    "outputId": "74e9fe35-3368-4f44-edad-a9281b0d8019"
   },
   "outputs": [],
   "source": [
    "scrapdata"
   ]
  },
  {
   "cell_type": "code",
   "execution_count": null,
   "metadata": {
    "execution": {
     "iopub.execute_input": "2021-06-18T19:38:01.021093Z",
     "iopub.status.busy": "2021-06-18T19:38:01.020562Z",
     "iopub.status.idle": "2021-06-18T19:38:01.038771Z",
     "shell.execute_reply": "2021-06-18T19:38:01.038018Z",
     "shell.execute_reply.started": "2021-06-18T19:38:01.021054Z"
    },
    "id": "r_cwh5XFYI6H",
    "outputId": "b43d4d64-c403-44ce-bdc8-2b0aed42c274"
   },
   "outputs": [],
   "source": [
    "scrapdata.isna().sum()    #checking wheather their is any null value or not"
   ]
  },
  {
   "cell_type": "code",
   "execution_count": null,
   "metadata": {
    "execution": {
     "iopub.execute_input": "2021-06-18T19:38:01.041186Z",
     "iopub.status.busy": "2021-06-18T19:38:01.040937Z",
     "iopub.status.idle": "2021-06-18T19:38:01.175507Z",
     "shell.execute_reply": "2021-06-18T19:38:01.174579Z",
     "shell.execute_reply.started": "2021-06-18T19:38:01.041160Z"
    },
    "id": "MxlactsQYI6H"
   },
   "outputs": [],
   "source": [
    "df=data.append(scrapdata,ignore_index=True)  ## appending the scrapped data with the previous data"
   ]
  },
  {
   "cell_type": "code",
   "execution_count": null,
   "metadata": {
    "execution": {
     "iopub.execute_input": "2021-06-18T19:38:01.177182Z",
     "iopub.status.busy": "2021-06-18T19:38:01.176822Z",
     "iopub.status.idle": "2021-06-18T19:38:01.509016Z",
     "shell.execute_reply": "2021-06-18T19:38:01.508167Z",
     "shell.execute_reply.started": "2021-06-18T19:38:01.177147Z"
    },
    "id": "KMFcDjTPYI6H"
   },
   "outputs": [],
   "source": [
    "df.dropna(inplace=True) #dropping null values that comes with previous data"
   ]
  },
  {
   "cell_type": "markdown",
   "metadata": {
    "id": "N7iuzzzO_bqJ"
   },
   "source": [
    "After appending the scrapped data, we need to sort the data according to `unix` time."
   ]
  },
  {
   "cell_type": "markdown",
   "metadata": {},
   "source": [
    "### Data exploration"
   ]
  },
  {
   "cell_type": "code",
   "execution_count": null,
   "metadata": {
    "execution": {
     "iopub.execute_input": "2021-06-18T19:38:01.510524Z",
     "iopub.status.busy": "2021-06-18T19:38:01.510192Z",
     "iopub.status.idle": "2021-06-18T19:38:01.826877Z",
     "shell.execute_reply": "2021-06-18T19:38:01.826032Z",
     "shell.execute_reply.started": "2021-06-18T19:38:01.510491Z"
    },
    "id": "q47EC1XhYI6H"
   },
   "outputs": [],
   "source": [
    "df.sort_values('Timestamp',ignore_index=True,inplace=True)"
   ]
  },
  {
   "cell_type": "code",
   "execution_count": null,
   "metadata": {
    "execution": {
     "iopub.execute_input": "2021-06-18T19:38:01.828477Z",
     "iopub.status.busy": "2021-06-18T19:38:01.828105Z",
     "iopub.status.idle": "2021-06-18T19:38:01.888834Z",
     "shell.execute_reply": "2021-06-18T19:38:01.887967Z",
     "shell.execute_reply.started": "2021-06-18T19:38:01.828441Z"
    },
    "id": "PaKSRMeUYI6I"
   },
   "outputs": [],
   "source": [
    "df['timestamp'] = pd.to_datetime(df['Timestamp'],unit='s') #converting the unix time to readable format"
   ]
  },
  {
   "cell_type": "code",
   "execution_count": null,
   "metadata": {
    "execution": {
     "iopub.execute_input": "2021-06-18T19:38:01.890464Z",
     "iopub.status.busy": "2021-06-18T19:38:01.890094Z",
     "iopub.status.idle": "2021-06-18T19:38:25.789650Z",
     "shell.execute_reply": "2021-06-18T19:38:25.788801Z",
     "shell.execute_reply.started": "2021-06-18T19:38:01.890425Z"
    },
    "id": "8TidYnZ6YI6I"
   },
   "outputs": [],
   "source": [
    "#abstracting year and month from the readable time format\n",
    "df['year'] = df['timestamp'].dt.year\n",
    "# df['day'] = df['timestamp'].dt.day\n",
    "df['month'] = df['timestamp'].dt.month\n",
    "# df['minute'] = df['timestamp'].dt.strftime('%M')\n",
    "# df['hours'] = df['timestamp'].dt.strftime('%H')\n",
    "df['date'] = df['timestamp'].dt.strftime('%Y-%m-%d')\n",
    "# df['seconds']=df['timestamp'].dt.strftime('%S')"
   ]
  },
  {
   "cell_type": "code",
   "execution_count": null,
   "metadata": {
    "execution": {
     "iopub.execute_input": "2021-06-18T19:38:25.795344Z",
     "iopub.status.busy": "2021-06-18T19:38:25.795054Z",
     "iopub.status.idle": "2021-06-18T19:38:25.799312Z",
     "shell.execute_reply": "2021-06-18T19:38:25.798358Z",
     "shell.execute_reply.started": "2021-06-18T19:38:25.795316Z"
    },
    "id": "TxPGbGJ4YI6I"
   },
   "outputs": [],
   "source": [
    "df.index = df.timestamp  ## changing the index values according to timestamp"
   ]
  },
  {
   "cell_type": "markdown",
   "metadata": {
    "id": "2G0-6ZkhAVSC"
   },
   "source": [
    "We need to do the timeseries analysis and their are many values , we will use the resample the given datapoints on the basis of `month`. For more details check [here](https://pandas.pydata.org/pandas-docs/stable/reference/api/pandas.DataFrame.resample.html)"
   ]
  },
  {
   "cell_type": "code",
   "execution_count": null,
   "metadata": {
    "execution": {
     "iopub.execute_input": "2021-06-18T19:38:25.802797Z",
     "iopub.status.busy": "2021-06-18T19:38:25.802456Z",
     "iopub.status.idle": "2021-06-18T19:38:26.492940Z",
     "shell.execute_reply": "2021-06-18T19:38:26.491964Z",
     "shell.execute_reply.started": "2021-06-18T19:38:25.802761Z"
    },
    "id": "3vS_PoWeYI6I"
   },
   "outputs": [],
   "source": [
    "df_month = df.resample('M').mean()"
   ]
  },
  {
   "cell_type": "markdown",
   "metadata": {
    "id": "Dw9q1c9LFHMZ"
   },
   "source": [
    "We will look at the trend that how the `volume` and `price` of bitcoin has been varied from year 2011 onwards."
   ]
  },
  {
   "cell_type": "markdown",
   "metadata": {},
   "source": [
    "### Data visualization"
   ]
  },
  {
   "cell_type": "code",
   "execution_count": null,
   "metadata": {
    "execution": {
     "iopub.execute_input": "2021-06-18T19:38:26.494626Z",
     "iopub.status.busy": "2021-06-18T19:38:26.494278Z",
     "iopub.status.idle": "2021-06-18T19:38:27.571871Z",
     "shell.execute_reply": "2021-06-18T19:38:27.571068Z",
     "shell.execute_reply.started": "2021-06-18T19:38:26.494578Z"
    },
    "id": "S1LzOaLyYI6I",
    "outputId": "b1b439b9-153f-4415-ae85-9ec5a9003281"
   },
   "outputs": [],
   "source": [
    "# PLOTS\n",
    "fig = plt.figure(figsize=[20, 20])\n",
    "plt.suptitle('Bitcoin price and volume mean in USD', fontsize=22)\n",
    "##plot for mean volume vs months\n",
    "plt.subplot(311) ## position of plot \n",
    "plt.plot(df['Volume_(BTC)'], '-', label='By Months')  ## plot for volume \n",
    "plt.xlabel(\"Year\")\n",
    "plt.ylabel(\"volume of bitcoin\")\n",
    "plt.title(\"Volume mean according to months\")\n",
    "\n",
    "##plot for mean Pricee vs months\n",
    "plt.subplot(312)\n",
    "plt.plot(df_month.Weighted_Price, '-', label='By Months',color='c')    ## plot for the prices\n",
    "plt.title(\"Price mean according to months\")\n",
    "plt.xlabel(\"Year\")\n",
    "plt.ylabel(\"Price of bitcoin\")\n",
    "\n",
    "##plot for mean currency volume vs months\n",
    "plt.subplot(313)\n",
    "plt.plot(df_month['Volume_(Currency)'], '-', label='By Months',color='g')\n",
    "plt.title(\"currency vol mean according to months\")\n",
    "plt.xlabel(\"Year\")\n",
    "plt.ylabel(\"volume of Currency flow\")\n",
    "\n",
    "plt.show()"
   ]
  },
  {
   "cell_type": "markdown",
   "metadata": {
    "id": "ectwGW3eFjTS"
   },
   "source": [
    "- From above we can say that in the starting years till 2015-16 the volume of the bitcoin in the market has been increases but it goes down after it.<br>\n",
    "Bitcoin is decentralised and as more people come into mining, the price would be increased. Bitcoin releases a block in every 4 years which contains details regarding all the transactions, but volume of bitcoin would be decreases in the future, for more details look after the blockchain.\n",
    "- From 2nd graph we can clearly say that prices are increases year by year, and we have some peak values in 2018 and 2021, the last block was released 2020 , it might be the case that more people have found this for better investing as its continuosly increasing year by year , thus more money flow hence more inflation. One can look more details for by looking demand and supply trend. And this is same for 3rd plot also.\n",
    "\n",
    "As the price is increasing very often in recent years so can we say is it still safe for trading ?"
   ]
  },
  {
   "cell_type": "code",
   "execution_count": null,
   "metadata": {
    "execution": {
     "iopub.execute_input": "2021-06-18T19:38:27.573285Z",
     "iopub.status.busy": "2021-06-18T19:38:27.572951Z",
     "iopub.status.idle": "2021-06-18T19:38:32.180872Z",
     "shell.execute_reply": "2021-06-18T19:38:32.180071Z",
     "shell.execute_reply.started": "2021-06-18T19:38:27.573233Z"
    },
    "id": "DYeNmGu4YI6J",
    "outputId": "9b319ce5-0733-4d5b-81fd-c5e84d4500d6"
   },
   "outputs": [],
   "source": [
    "price_diff = df[\"Weighted_Price\"].diff()        ##finding the difference of price for each row\n",
    "ax=price_diff.plot(figsize=(20,6),title='Variation in bitcoin price')\n",
    "ax.set_ylabel(\"prices difference\")"
   ]
  },
  {
   "cell_type": "markdown",
   "metadata": {
    "id": "3CYnKqElp4fk"
   },
   "source": [
    "If we compare the above plot and previous price trend plot ,then we can say that as the market price for the bitcoin has been increased ,then similarly the variation between the prices also increases i.e. as the price is increasing frequently then the falling of price is also their in the same proportion."
   ]
  },
  {
   "cell_type": "code",
   "execution_count": null,
   "metadata": {
    "execution": {
     "iopub.execute_input": "2021-06-18T19:38:32.182621Z",
     "iopub.status.busy": "2021-06-18T19:38:32.182278Z",
     "iopub.status.idle": "2021-06-18T19:38:33.204199Z",
     "shell.execute_reply": "2021-06-18T19:38:33.203229Z",
     "shell.execute_reply.started": "2021-06-18T19:38:32.182568Z"
    },
    "id": "G-keM1NAYI6J",
    "outputId": "718dc654-049a-4e6e-cf63-ad18437acb70"
   },
   "outputs": [],
   "source": [
    "df.boxplot(column='Volume_(BTC)',by = 'year', figsize=(10,10))"
   ]
  },
  {
   "cell_type": "markdown",
   "metadata": {
    "id": "fV7-qRnOre_H"
   },
   "source": [
    "This shows that year 2014 has the highest volume for bitcoins in the market and after that the volume has been continously decreasing,althoug the avg volume was very less. One need to look at the market cap for future if wants to trade this in future because the price is definitely increasing but the volume is continuously decreasing ,investor needs to think whether he would be able to trade in this in future or not......"
   ]
  },
  {
   "cell_type": "code",
   "execution_count": null,
   "metadata": {
    "execution": {
     "iopub.execute_input": "2021-06-18T19:38:33.205958Z",
     "iopub.status.busy": "2021-06-18T19:38:33.205621Z",
     "iopub.status.idle": "2021-06-18T19:38:34.175514Z",
     "shell.execute_reply": "2021-06-18T19:38:34.174529Z",
     "shell.execute_reply.started": "2021-06-18T19:38:33.205920Z"
    },
    "id": "KpE3Bz1QYI6J",
    "outputId": "edd2c755-239b-4597-eac4-10fa48bd43f6"
   },
   "outputs": [],
   "source": [
    "df.boxplot(column='Volume_(Currency)',by = 'year', figsize=(10,10))"
   ]
  },
  {
   "cell_type": "markdown",
   "metadata": {
    "id": "s6K5mmRWwt29"
   },
   "source": [
    "The highest volume trades were made in 2021, avg. currency volume is still very less , this shows that many of the invetors were average investors who wants to do safe trading or they might have the fear of losses, and highest trade volume is very high ,they might be big investor who have the market knowledge or well experience with cypto trading.  "
   ]
  },
  {
   "cell_type": "markdown",
   "metadata": {},
   "source": [
    "As their is drastic change in recent year, let's see changes over it...."
   ]
  },
  {
   "cell_type": "code",
   "execution_count": null,
   "metadata": {
    "execution": {
     "iopub.execute_input": "2021-06-18T19:38:34.177276Z",
     "iopub.status.busy": "2021-06-18T19:38:34.176932Z",
     "iopub.status.idle": "2021-06-18T19:38:34.285320Z",
     "shell.execute_reply": "2021-06-18T19:38:34.284436Z",
     "shell.execute_reply.started": "2021-06-18T19:38:34.177226Z"
    },
    "id": "wxHSr63wYI6J"
   },
   "outputs": [],
   "source": [
    "yeardata=df[df.year>=2020]"
   ]
  },
  {
   "cell_type": "code",
   "execution_count": null,
   "metadata": {
    "execution": {
     "iopub.execute_input": "2021-06-18T19:38:34.287011Z",
     "iopub.status.busy": "2021-06-18T19:38:34.286669Z",
     "iopub.status.idle": "2021-06-18T19:38:39.676365Z",
     "shell.execute_reply": "2021-06-18T19:38:39.675616Z",
     "shell.execute_reply.started": "2021-06-18T19:38:34.286976Z"
    },
    "id": "c06nCKUdYI6K",
    "outputId": "e806ad6d-1df3-41c3-aedc-de8245f63c98"
   },
   "outputs": [],
   "source": [
    "##plot for price variation in year 2020-21\n",
    "plt.figure(figsize=(20,15))\n",
    "ax=yeardata[yeardata.year==2020].plot(kind='scatter', x='month', y='High',color = 'cyan',label='2020')\n",
    "yeardata[yeardata.year==2021].plot(kind='scatter', x='month', y='High',color = 'violet',ax=ax,label='2021')\n",
    "plt.xlabel('Month')              \n",
    "plt.legend()\n",
    "plt.ylabel('Hihest Prices of days in months')\n",
    "\n",
    "plt.title('Month - Highest Price of day Scatter Plot(2020-2021)') "
   ]
  },
  {
   "cell_type": "markdown",
   "metadata": {
    "id": "WkI85I5d2dMJ"
   },
   "source": [
    "From above we can see that their is drastic increase in the price value of bitcoin and according to some of the prediction [reports](https://investorplace.com/2021/06/bitcoin-price-prediction-2021-why-btc-could-hit-100k-by-year-end/) also mentions that the prices might hit 100K USD by the end of the year."
   ]
  },
  {
   "cell_type": "code",
   "execution_count": null,
   "metadata": {
    "execution": {
     "iopub.execute_input": "2021-06-18T19:38:39.677981Z",
     "iopub.status.busy": "2021-06-18T19:38:39.677641Z",
     "iopub.status.idle": "2021-06-18T19:38:39.803228Z",
     "shell.execute_reply": "2021-06-18T19:38:39.802361Z",
     "shell.execute_reply.started": "2021-06-18T19:38:39.677943Z"
    },
    "id": "TbXYqPWCwPVc"
   },
   "outputs": [],
   "source": [
    "dat=df.resample('D').mean()#resample dataframe by days"
   ]
  },
  {
   "cell_type": "code",
   "execution_count": null,
   "metadata": {
    "execution": {
     "iopub.execute_input": "2021-06-18T19:38:39.804863Z",
     "iopub.status.busy": "2021-06-18T19:38:39.804472Z",
     "iopub.status.idle": "2021-06-18T19:38:40.731399Z",
     "shell.execute_reply": "2021-06-18T19:38:40.730619Z",
     "shell.execute_reply.started": "2021-06-18T19:38:39.804819Z"
    },
    "id": "nlev0W0edxny",
    "outputId": "1c29029e-81ee-4af3-a2b1-a19db6182585"
   },
   "outputs": [],
   "source": [
    "#plot the high and close price \n",
    "plt.figure(figsize=(200,20))\n",
    "plt.plot(dat['Open'],'-',color='g')\n",
    "plt.plot(dat['Close'],'+',color='k')\n",
    "plt.show()"
   ]
  },
  {
   "cell_type": "code",
   "execution_count": null,
   "metadata": {
    "execution": {
     "iopub.execute_input": "2021-06-18T19:38:40.733019Z",
     "iopub.status.busy": "2021-06-18T19:38:40.732671Z",
     "iopub.status.idle": "2021-06-18T19:38:41.703624Z",
     "shell.execute_reply": "2021-06-18T19:38:41.702643Z",
     "shell.execute_reply.started": "2021-06-18T19:38:40.732981Z"
    },
    "id": "wi1aPuD3YI6K",
    "outputId": "aa6d9fcb-1ff6-4973-f93c-143e5712a469"
   },
   "outputs": [],
   "source": [
    "dfdate=df.groupby(['date']).max() #taking the max values for unique dates\n",
    "#plot for open and low prices (date-wise)\n",
    "ax=dfdate.plot(kind=\"scatter\", y=\"Low\",x='timestamp', alpha=0.3, color= \"red\",figsize=(100,10),label='Low')\n",
    "dfdate.plot(kind=\"line\", y=\"High\",x='timestamp', alpha=0.3, color= \"blue\",ax=ax,label='high')\n",
    "plt.xlabel(\"Open price\")\n",
    "plt.ylabel(\"High price\")\n",
    "plt.legend()\n",
    "plt.title(\"Scatter \")\n",
    "plt.show()"
   ]
  },
  {
   "cell_type": "markdown",
   "metadata": {
    "id": "uQDFd9idHW6v"
   },
   "source": [
    "The price change trend for Low and high prices are almost same ,their is linear or direct proportion relation between them .This shows that their is not much variation of price for dates before end of 2020 , but in 2021 a significant difference between can be observed. <br>Let's try to see some more relationships among prices and volumes"
   ]
  },
  {
   "cell_type": "code",
   "execution_count": null,
   "metadata": {
    "execution": {
     "iopub.execute_input": "2021-06-18T19:38:41.705540Z",
     "iopub.status.busy": "2021-06-18T19:38:41.705203Z",
     "iopub.status.idle": "2021-06-18T19:38:55.079426Z",
     "shell.execute_reply": "2021-06-18T19:38:55.078607Z",
     "shell.execute_reply.started": "2021-06-18T19:38:41.705507Z"
    },
    "id": "_cpqIiHnckWA",
    "outputId": "4df9a750-091f-4aff-ff2f-e1a60df2728a"
   },
   "outputs": [],
   "source": [
    "colors=['b','g','r','c','m','y','k','brown']\n",
    "j=1\n",
    "#plot for visualizing relation among prices and volumes\n",
    "plt.figure(figsize=(30,25))\n",
    "for col in df.columns[1:5]:\n",
    "  for _ in range(3):\n",
    "    if j%3==1:\n",
    "      cmp='Volume_(BTC)'\n",
    "    elif j%3==2:\n",
    "      cmp='Volume_(Currency)'\n",
    "    else:\n",
    "      cmp='Weighted_Price'\n",
    "    plt.subplot(4,3,j)\n",
    "    plt.plot(df[col],df[cmp], color=colors[j%8])\n",
    "    plt.xlabel(col+\" values\")\n",
    "    plt.ylabel(cmp+\" of Bitcoins\")\n",
    "    plt.title( cmp+\" values  vs  \"+col+\" of BTC\")\n",
    "    j+=1\n",
    "\n"
   ]
  },
  {
   "cell_type": "markdown",
   "metadata": {
    "id": "ZsX1p7-5JdJi"
   },
   "source": [
    "- The volume of BTC i.e. col 1  charts represents the same trend that majority of trades or when the prices where low then large amount of Bitcoins were traded ,but as the Volume get decreases then the price of the bitcoin increases.\n",
    "<br>i.e. $Volume\\_BTC  \\quad  \\alpha \\quad \\frac{1}{Prices}$\n",
    "- The Volume of Currency varies with the prices \n",
    "- The Trading price has linear relation with the closing ,open,high and low prices."
   ]
  },
  {
   "cell_type": "code",
   "execution_count": null,
   "metadata": {
    "execution": {
     "iopub.execute_input": "2021-06-18T19:38:55.081081Z",
     "iopub.status.busy": "2021-06-18T19:38:55.080727Z",
     "iopub.status.idle": "2021-06-18T19:38:55.145968Z",
     "shell.execute_reply": "2021-06-18T19:38:55.145007Z",
     "shell.execute_reply.started": "2021-06-18T19:38:55.081041Z"
    },
    "id": "lvNjd6553gk0"
   },
   "outputs": [],
   "source": [
    "import seaborn as sns  #seaborn is another lib for visualization based on matplotlib"
   ]
  },
  {
   "cell_type": "code",
   "execution_count": null,
   "metadata": {
    "execution": {
     "iopub.execute_input": "2021-06-18T19:38:55.147566Z",
     "iopub.status.busy": "2021-06-18T19:38:55.147215Z",
     "iopub.status.idle": "2021-06-18T19:38:55.573761Z",
     "shell.execute_reply": "2021-06-18T19:38:55.572949Z",
     "shell.execute_reply.started": "2021-06-18T19:38:55.147532Z"
    },
    "id": "2aNGTZO84yDs",
    "outputId": "8aa4b9f0-dfc1-486b-f9da-284d820674de"
   },
   "outputs": [],
   "source": [
    "#plot for freq. over closing prices\n",
    "ax=sns.distplot(df.Close,kde=False,bins=40) #ploting histogram \n",
    "ax.set_title('Frequencie of different Closing prices')\n",
    "ax.set(xlabel='Close price range', ylabel='Frequency of Close price')\n",
    "plt.show()\n"
   ]
  },
  {
   "cell_type": "code",
   "execution_count": null,
   "metadata": {
    "execution": {
     "iopub.execute_input": "2021-06-18T19:38:55.576499Z",
     "iopub.status.busy": "2021-06-18T19:38:55.576134Z",
     "iopub.status.idle": "2021-06-18T19:39:09.714746Z",
     "shell.execute_reply": "2021-06-18T19:39:09.713956Z",
     "shell.execute_reply.started": "2021-06-18T19:38:55.576463Z"
    },
    "id": "qhX1P7X9Arhz",
    "outputId": "7cc58098-7c17-44bd-b9bc-861c5f0b322a"
   },
   "outputs": [],
   "source": [
    "#plot for freq. over high prices \n",
    "ax=sns.distplot(df.High,kde=True,bins=40)\n",
    "ax.set_title('Frequencie of different Highest prices')\n",
    "ax.set(xlabel='High price range', ylabel='Frequency of Highest price')\n",
    "plt.show()\n"
   ]
  },
  {
   "cell_type": "markdown",
   "metadata": {
    "id": "WpOlr7_Ad01G"
   },
   "source": [
    "From above we can see their was variation between the prices and their corresponding number of trades, as the price increases the number of trades also decreases as we have seen that their is large difference in prices on daily basis, means as the prices goes up , it also went down in same way , so it might become quite difficult for less experience traders to trade for higer price range. "
   ]
  },
  {
   "cell_type": "code",
   "execution_count": null,
   "metadata": {
    "execution": {
     "iopub.execute_input": "2021-06-18T19:39:09.716328Z",
     "iopub.status.busy": "2021-06-18T19:39:09.715989Z",
     "iopub.status.idle": "2021-06-18T19:39:10.822936Z",
     "shell.execute_reply": "2021-06-18T19:39:10.821968Z",
     "shell.execute_reply.started": "2021-06-18T19:39:09.716290Z"
    },
    "id": "--okCMuuIX7S",
    "outputId": "754852d0-8e90-47aa-c47b-b2903f4f7ab5"
   },
   "outputs": [],
   "source": [
    "df.boxplot(column=['High', 'Volume_(BTC)', 'Weighted_Price'])"
   ]
  },
  {
   "cell_type": "code",
   "execution_count": null,
   "metadata": {
    "execution": {
     "iopub.execute_input": "2021-06-18T19:39:10.824767Z",
     "iopub.status.busy": "2021-06-18T19:39:10.824411Z",
     "iopub.status.idle": "2021-06-18T19:39:11.878791Z",
     "shell.execute_reply": "2021-06-18T19:39:11.877780Z",
     "shell.execute_reply.started": "2021-06-18T19:39:10.824730Z"
    },
    "id": "UoYrcTtnLACS",
    "outputId": "101c8cec-bf3e-4b86-d3ff-fb9d97ff9e3a"
   },
   "outputs": [],
   "source": [
    "#plot for avg closing and opening prices over the period months\n",
    "X = np.arange(12)\n",
    "fig = plt.figure()\n",
    "ax = fig.add_axes([0,0,1,1])\n",
    "ax.bar(X + 0.00, df.groupby('month').mean()['Open'], color = 'b', width = 0.25,label='Open Price')\n",
    "ax.bar(X + 0.25, df.groupby('month').mean()['Close'], color = 'g', width = 0.25,label='Close price')\n",
    "ax.set_xticks(df.groupby('month').mean().index)\n",
    "ax.set_title(\"Avg Open and close price according to months\")\n",
    "ax.set_xlabel(\"Months\")\n",
    "ax.legend()\n",
    "ax.set_ylabel(\"Avg price month wise\")"
   ]
  },
  {
   "cell_type": "markdown",
   "metadata": {
    "id": "t4zc5czlf18d"
   },
   "source": [
    "The avg price was more during winter season that is between DEC-MAR, but the price for bitcoin increases in 2021, so the avg might comes different ,hence we need to look for year before 2021 before concluding best investing period."
   ]
  },
  {
   "cell_type": "code",
   "execution_count": null,
   "metadata": {
    "execution": {
     "iopub.execute_input": "2021-06-18T19:39:11.880715Z",
     "iopub.status.busy": "2021-06-18T19:39:11.880358Z",
     "iopub.status.idle": "2021-06-18T19:39:12.091677Z",
     "shell.execute_reply": "2021-06-18T19:39:12.090799Z",
     "shell.execute_reply.started": "2021-06-18T19:39:11.880676Z"
    }
   },
   "outputs": [],
   "source": [
    "mn=df[df.year<2021]   ## dataframe for year before 2021"
   ]
  },
  {
   "cell_type": "code",
   "execution_count": null,
   "metadata": {
    "execution": {
     "iopub.execute_input": "2021-06-18T19:39:12.093522Z",
     "iopub.status.busy": "2021-06-18T19:39:12.092997Z",
     "iopub.status.idle": "2021-06-18T19:39:13.149337Z",
     "shell.execute_reply": "2021-06-18T19:39:13.148345Z",
     "shell.execute_reply.started": "2021-06-18T19:39:12.093482Z"
    }
   },
   "outputs": [],
   "source": [
    "#plot of avg open and close price varies with month\n",
    "X = np.arange(12)\n",
    "fig = plt.figure()\n",
    "ax = fig.add_axes([0,0,1,1])\n",
    "ax.bar(X + 0.00, mn.groupby('month').mean()['Open'], color = 'b', width = 0.25,label='Open Price')\n",
    "ax.bar(X + 0.25, mn.groupby('month').mean()['Close'], color = 'g', width = 0.25,label='Close price')\n",
    "ax.set_xticks(mn.groupby('month').mean().index)\n",
    "ax.set_title(\"Avg Open and close price according to months\")\n",
    "ax.set_xlabel(\"Months\")\n",
    "ax.legend()\n",
    "ax.set_ylabel(\"Avg price month wise\")"
   ]
  },
  {
   "cell_type": "markdown",
   "metadata": {},
   "source": [
    "From above plot we can view that before 2021 the price of Bitcoin increases after the 7-8 month and again get decreases in starting period of year, this was similar case in 2021 also the price decreases after March 2021, so we can say that for long term trading or safe trading one can invest in the summer and should square off the starting period of new year.\n",
    "\n",
    "Now we make bitcoin price prediction ,so before that let's see the correlation among atributes."
   ]
  },
  {
   "cell_type": "markdown",
   "metadata": {},
   "source": [
    "### Heatmap"
   ]
  },
  {
   "cell_type": "code",
   "execution_count": null,
   "metadata": {
    "execution": {
     "iopub.execute_input": "2021-06-18T19:39:13.151105Z",
     "iopub.status.busy": "2021-06-18T19:39:13.150765Z",
     "iopub.status.idle": "2021-06-18T19:39:14.803527Z",
     "shell.execute_reply": "2021-06-18T19:39:14.802707Z",
     "shell.execute_reply.started": "2021-06-18T19:39:13.151067Z"
    },
    "id": "NeuqTf1lhlF0",
    "outputId": "252f7e30-a389-4eed-f9e6-91326ee4b7d0"
   },
   "outputs": [],
   "source": [
    "plt.figure(figsize = (20,10))\n",
    "ax=sns.heatmap(df.corr(), annot = True,square=True,linewidths=.5,vmin=-1, vmax=1, center= 0)"
   ]
  },
  {
   "cell_type": "markdown",
   "metadata": {
    "id": "Bbqfd7cviLBp"
   },
   "source": [
    "The Weigted_price col has direct correlation with closing,high,low prices . And have other good correlation with timestamp , and little less with the volume of BTC . We should not use the attrbibute `High`,`Close`,`Open` and `Close` prices as they are directly correlated with `Weighted_Price`(target feature).\n",
    "\n",
    "\n",
    "Since this is the time series data ,so we will perform time series price prediction for it."
   ]
  },
  {
   "cell_type": "code",
   "execution_count": null,
   "metadata": {
    "execution": {
     "iopub.execute_input": "2021-06-18T19:39:14.805151Z",
     "iopub.status.busy": "2021-06-18T19:39:14.804820Z",
     "iopub.status.idle": "2021-06-18T19:39:14.830428Z",
     "shell.execute_reply": "2021-06-18T19:39:14.829300Z",
     "shell.execute_reply.started": "2021-06-18T19:39:14.805114Z"
    },
    "id": "MQO_Lj62guxF"
   },
   "outputs": [],
   "source": [
    "df"
   ]
  },
  {
   "cell_type": "markdown",
   "metadata": {},
   "source": [
    "# Training Model"
   ]
  },
  {
   "cell_type": "markdown",
   "metadata": {},
   "source": [
    "## Time series price pridiction\n",
    "\n",
    "Time series analysis is that type of analysis that deals with time series data. The time series data usually involves price data of certain commodities, or stock exchanges, like the stock price pridiction.<br>\n",
    "In time series analysis, the exponential smoothing method predicts the next period value on the basis of the past value and the current value. In time series analysis, this method is used to make short term predictions about the commodities or the stock exchanges. Because the prediction is based on past values that is why normal regression algorithm and ANN cannot give good results over because it consider each datapoint as an individual sample. <br>\n",
    "\n",
    "In a feed-forward neural network, the decisions are based on the current input. It doesn’t memorize the past data, and there’s no future scope. Feed-forward neural networks are used in general regression and classification problems.\n",
    "\n",
    "Have you ever wondered that how we get automatic suggested words while writing email based on our previous sentence ?.. <br>\n",
    "In simple terms, sequential data used for the such mechanism. \n",
    "\n",
    "To implement sequential data efficiently, the algorithm responsible for making it a possibility is Recurrent neural networks (RNN). \n",
    "\n",
    "### Recurrent Neural Networks(RNN)\n",
    "\n",
    "A Recurrent Neural Network works on the principle of saving the output of a particular layer and feeding this back to the input in order to predict the output of the layer.\n",
    "\n",
    "<img src='img/rnn.gif'/>\n",
    "\n",
    "- X is the input layer\n",
    "- h is the hidden layer\n",
    "- y is the output layer\n",
    "\n",
    "A, B, and C are the network parameters used to improve the output of the model.\n",
    "\n",
    "For forward propagation the current state is the function of old state and input vector:<br>\n",
    "i.e. $h(t)=f_c(h(t-1),x(t))$\n",
    "\n",
    "#### Backword Propagation\n",
    "\n",
    "Consider the image \n",
    "\n",
    "<img src='img/rnn_back.png'/>\n",
    "\n",
    "\\begin{align}\n",
    "s_t = tanh(Wr* x_t+Wi*s_{t-1}) \\\\\n",
    "\\end{align}\n",
    "\\begin{align}\n",
    "\\hat{y_t} = softmax(Vs_t) \\\\\n",
    "\\end{align}\n",
    "\\begin{align}\n",
    "E = \\sum^{}_{t} {E_t}\n",
    "\\end{align}\n",
    "\n",
    "Wr=weight at current NN<br>\n",
    "Wi= weight at input from previous NN state<br>\n",
    "V=weight at output layer<br>\n",
    "$Y_t=Output\\ at\\ state\\ t$<br>\n",
    "E - final loss function\n",
    "\n",
    "We need to find derivation for updating previous weights as we do in NN.\n",
    "\\begin{align}\n",
    "\\frac{\\partial E}{\\partial W} =\n",
    "\\sum^{}_{t} {\\frac{\\partial E_t}{\\partial W}}\n",
    "\\end{align}\n",
    "\n",
    "\n",
    "\n",
    "\\begin{align}\n",
    "\\frac{\\partial E_3}{\\partial V} =\n",
    "\\frac{\\partial E_3}{\\partial \\hat{y_3}}\n",
    "\\frac{\\partial \\hat{y_3}}{\\partial z_3}\n",
    "\\frac{ \\partial z_3}{\\partial V}\n",
    "\\end{align}\n",
    "\n",
    "Z=activation function\n",
    "\n",
    "\\begin{align}\n",
    "\\frac{\\partial E_3}{\\partial W} =\n",
    "\\frac{\\partial E_3}{\\partial \\hat{y_3}}\n",
    "\\frac{\\partial \\hat{y_3}}{\\partial s_3}\n",
    "\\frac{ \\partial s_3}{\\partial W}\n",
    "\\end{align}\n",
    "\n",
    "\\begin{align}\n",
    "s_3 = tanh(Wr*x_t+Wi*s_2)\n",
    "\\end{align}\n",
    "\n",
    "in similar way we find derivative of all the parameters....\n",
    "\n",
    "For more details follow [here](https://www.geeksforgeeks.org/ml-back-propagation-through-time/)."
   ]
  },
  {
   "cell_type": "code",
   "execution_count": null,
   "metadata": {
    "execution": {
     "iopub.execute_input": "2021-06-18T19:39:14.832395Z",
     "iopub.status.busy": "2021-06-18T19:39:14.831855Z",
     "iopub.status.idle": "2021-06-18T19:39:20.044739Z",
     "shell.execute_reply": "2021-06-18T19:39:20.043718Z",
     "shell.execute_reply.started": "2021-06-18T19:39:14.832354Z"
    }
   },
   "outputs": [],
   "source": [
    "# Importing sklearn for RNN\n",
    "from keras.models import Sequential\n",
    "from keras.layers import Dense, SimpleRNN,Dropout,Flatten,LSTM\n",
    "from sklearn.preprocessing import StandardScaler\n",
    "from keras.callbacks import ModelCheckpoint"
   ]
  },
  {
   "cell_type": "code",
   "execution_count": null,
   "metadata": {
    "execution": {
     "iopub.execute_input": "2021-06-18T19:39:20.048160Z",
     "iopub.status.busy": "2021-06-18T19:39:20.047801Z",
     "iopub.status.idle": "2021-06-18T19:39:20.066358Z",
     "shell.execute_reply": "2021-06-18T19:39:20.065533Z",
     "shell.execute_reply.started": "2021-06-18T19:39:20.048120Z"
    }
   },
   "outputs": [],
   "source": [
    "df.head()"
   ]
  },
  {
   "cell_type": "code",
   "execution_count": null,
   "metadata": {
    "execution": {
     "iopub.execute_input": "2021-06-18T19:39:20.068518Z",
     "iopub.status.busy": "2021-06-18T19:39:20.067864Z",
     "iopub.status.idle": "2021-06-18T19:39:21.757638Z",
     "shell.execute_reply": "2021-06-18T19:39:21.756733Z",
     "shell.execute_reply.started": "2021-06-18T19:39:20.068465Z"
    }
   },
   "outputs": [],
   "source": [
    "df['Date']=pd.to_datetime(df['Timestamp'],unit='s').dt.date\n"
   ]
  },
  {
   "cell_type": "code",
   "execution_count": null,
   "metadata": {
    "execution": {
     "iopub.execute_input": "2021-06-18T19:39:21.759389Z",
     "iopub.status.busy": "2021-06-18T19:39:21.759007Z",
     "iopub.status.idle": "2021-06-18T19:39:22.396267Z",
     "shell.execute_reply": "2021-06-18T19:39:22.395369Z",
     "shell.execute_reply.started": "2021-06-18T19:39:21.759354Z"
    }
   },
   "outputs": [],
   "source": [
    "X=df.groupby('Date')['Weighted_Price'].max()         ## creating of mean price for the unique date"
   ]
  },
  {
   "cell_type": "code",
   "execution_count": null,
   "metadata": {
    "execution": {
     "iopub.execute_input": "2021-06-18T19:39:22.397929Z",
     "iopub.status.busy": "2021-06-18T19:39:22.397564Z",
     "iopub.status.idle": "2021-06-18T19:39:22.403565Z",
     "shell.execute_reply": "2021-06-18T19:39:22.402557Z",
     "shell.execute_reply.started": "2021-06-18T19:39:22.397889Z"
    }
   },
   "outputs": [],
   "source": [
    "X.shape"
   ]
  },
  {
   "cell_type": "code",
   "execution_count": null,
   "metadata": {
    "execution": {
     "iopub.execute_input": "2021-06-18T19:39:22.405301Z",
     "iopub.status.busy": "2021-06-18T19:39:22.404924Z",
     "iopub.status.idle": "2021-06-18T19:39:22.413936Z",
     "shell.execute_reply": "2021-06-18T19:39:22.413149Z",
     "shell.execute_reply.started": "2021-06-18T19:39:22.405243Z"
    }
   },
   "outputs": [],
   "source": [
    "## spliting the data with test size = 15%\n",
    "train_size = int(len(X)*0.85)\n",
    "\n",
    "train_data = X[0:train_size]\n",
    "test_data = X[train_size:]"
   ]
  },
  {
   "cell_type": "markdown",
   "metadata": {},
   "source": [
    "We need to reshape the data because RNN takes input in the format \\[samples,timestep,features\\].<br>\n",
    "- Sample-sample is the number of sample datapoints.<br>\n",
    "- Timestep- It's the timeperiod consider for making prediction i.e. the prediction of price for a particular day will depend on how many previous days.<br>\n",
    "- Feature- features/attributes used for a single sample point."
   ]
  },
  {
   "cell_type": "code",
   "execution_count": null,
   "metadata": {
    "execution": {
     "iopub.execute_input": "2021-06-18T19:39:22.415618Z",
     "iopub.status.busy": "2021-06-18T19:39:22.415210Z",
     "iopub.status.idle": "2021-06-18T19:39:22.423909Z",
     "shell.execute_reply": "2021-06-18T19:39:22.423179Z",
     "shell.execute_reply.started": "2021-06-18T19:39:22.415578Z"
    }
   },
   "outputs": [],
   "source": [
    "train_data=np.array(train_data)\n",
    "train_data=train_data.reshape(train_data.shape[0],1)"
   ]
  },
  {
   "cell_type": "code",
   "execution_count": null,
   "metadata": {
    "execution": {
     "iopub.execute_input": "2021-06-18T19:39:22.425719Z",
     "iopub.status.busy": "2021-06-18T19:39:22.425172Z",
     "iopub.status.idle": "2021-06-18T19:39:22.435092Z",
     "shell.execute_reply": "2021-06-18T19:39:22.434245Z",
     "shell.execute_reply.started": "2021-06-18T19:39:22.425679Z"
    }
   },
   "outputs": [],
   "source": [
    "# standardizing points for faster descent\n",
    "from sklearn.preprocessing import StandardScaler\n",
    "scaler=StandardScaler()\n",
    "train_data=scaler.fit_transform(train_data)"
   ]
  },
  {
   "cell_type": "markdown",
   "metadata": {},
   "source": [
    "creating datapoints in the format of \\[samples,timestep,features\\].\n",
    "\n",
    "Ex.: Consider We have 20 sample points and we want to make dataset for timeseries prediction, the each of our output feature would depend on some previous values(say for last 5 days).<br>\n",
    "\n",
    "|dates|price|\n",
    "|---|---|\n",
    "|date1|10|\n",
    "|date2|11|\n",
    "|date3|12|\n",
    "|date4|13|\n",
    "|date5|12.5|\n",
    "|date6|15|\n",
    "|date7|13|\n",
    "|...|...|\n",
    "\n",
    "*Note*: Date is the index here\n",
    "\n",
    "Then the new sample points would be like:<br>\n",
    "\n",
    "|X |  Y|\n",
    "|---|---|\n",
    "|\\[10,11,12,13,12.5\\] |15|\n",
    "|\\[15,13,....\\]       |13.5|\n",
    "\n",
    "Here the price of  6th day depend on the price of last 5 days."
   ]
  },
  {
   "cell_type": "code",
   "execution_count": null,
   "metadata": {
    "execution": {
     "iopub.execute_input": "2021-06-18T19:39:22.436970Z",
     "iopub.status.busy": "2021-06-18T19:39:22.436617Z",
     "iopub.status.idle": "2021-06-18T19:39:22.452423Z",
     "shell.execute_reply": "2021-06-18T19:39:22.451287Z",
     "shell.execute_reply.started": "2021-06-18T19:39:22.436936Z"
    }
   },
   "outputs": [],
   "source": [
    "timestep=30\n",
    "x_train=[]\n",
    "y_train=[]\n",
    "# creating new sample points\n",
    "for i in range(timestep,train_data.shape[0]):\n",
    "    x_train.append(train_data[i-timestep:i,0])\n",
    "    y_train.append(train_data[i,0])\n",
    "\n",
    "x_train,y_train=np.array(x_train),np.array(y_train)\n",
    "x_train=x_train.reshape(x_train.shape[0],x_train.shape[1],1) #reshaped for RNN\n",
    "print(\"x_train shape= \",x_train.shape)\n",
    "print(\"y_train shape= \",y_train.shape)"
   ]
  },
  {
   "cell_type": "code",
   "execution_count": null,
   "metadata": {
    "execution": {
     "iopub.execute_input": "2021-06-18T19:39:22.454383Z",
     "iopub.status.busy": "2021-06-18T19:39:22.453981Z",
     "iopub.status.idle": "2021-06-18T19:39:24.669924Z",
     "shell.execute_reply": "2021-06-18T19:39:24.669064Z",
     "shell.execute_reply.started": "2021-06-18T19:39:22.454325Z"
    }
   },
   "outputs": [],
   "source": [
    "# init the model for RNN\n",
    "reg=Sequential()\n",
    "\n",
    "reg.add(SimpleRNN(128,activation='relu',return_sequences=True,input_shape=(x_train.shape[1],1)))\n",
    "reg.add(Dropout(0.3))\n",
    "reg.add(SimpleRNN(256,return_sequences=True,activation='relu'))\n",
    "reg.add(Dropout(0.3))\n",
    "reg.add(SimpleRNN(64,return_sequences=True,activation='relu'))\n",
    "reg.add(Dropout(0.3))\n",
    "reg.add(Flatten())\n",
    "reg.add(Dense(1))\n",
    "\n",
    "\n",
    "reg.compile(optimizer='adam',loss='mean_squared_error')\n"
   ]
  },
  {
   "cell_type": "code",
   "execution_count": null,
   "metadata": {
    "execution": {
     "iopub.execute_input": "2021-06-18T19:39:24.671662Z",
     "iopub.status.busy": "2021-06-18T19:39:24.671306Z",
     "iopub.status.idle": "2021-06-18T19:48:05.548844Z",
     "shell.execute_reply": "2021-06-18T19:48:05.548039Z",
     "shell.execute_reply.started": "2021-06-18T19:39:24.671607Z"
    }
   },
   "outputs": [],
   "source": [
    "#training the model\n",
    "val=reg.fit(x_train,y_train,epochs=100,batch_size=32,validation_split=0.1)"
   ]
  },
  {
   "cell_type": "code",
   "execution_count": null,
   "metadata": {
    "execution": {
     "iopub.execute_input": "2021-06-18T19:48:05.550898Z",
     "iopub.status.busy": "2021-06-18T19:48:05.550549Z",
     "iopub.status.idle": "2021-06-18T19:48:05.591757Z",
     "shell.execute_reply": "2021-06-18T19:48:05.590940Z",
     "shell.execute_reply.started": "2021-06-18T19:48:05.550859Z"
    }
   },
   "outputs": [],
   "source": [
    "reg.save('/model/timestamp_priceRNN.h5')    ##saving the model"
   ]
  },
  {
   "cell_type": "code",
   "execution_count": null,
   "metadata": {
    "execution": {
     "iopub.execute_input": "2021-06-18T19:48:05.593315Z",
     "iopub.status.busy": "2021-06-18T19:48:05.592940Z",
     "iopub.status.idle": "2021-06-18T19:48:05.761556Z",
     "shell.execute_reply": "2021-06-18T19:48:05.760629Z",
     "shell.execute_reply.started": "2021-06-18T19:48:05.593272Z"
    }
   },
   "outputs": [],
   "source": [
    "#plot for change in loss vs epochs\n",
    "training_loss = val.history['loss']\n",
    "val_loss = val.history['val_loss']\n",
    "\n",
    "plt.plot(training_loss,label='training_loss')\n",
    "plt.plot(val_loss,label='val_loss')\n",
    "plt.legend()\n",
    "plt.title('Visualising loss for RNN',fontsize=18)\n",
    "plt.xlabel('Epochs',fontsize=15)\n",
    "plt.ylabel('Loss',fontsize=15)\n",
    "plt.show()"
   ]
  },
  {
   "cell_type": "code",
   "execution_count": null,
   "metadata": {
    "execution": {
     "iopub.execute_input": "2021-06-18T19:48:05.763309Z",
     "iopub.status.busy": "2021-06-18T19:48:05.762823Z",
     "iopub.status.idle": "2021-06-18T19:48:05.768624Z",
     "shell.execute_reply": "2021-06-18T19:48:05.767575Z",
     "shell.execute_reply.started": "2021-06-18T19:48:05.763268Z"
    }
   },
   "outputs": [],
   "source": [
    "# getting the test data\n",
    "inputs=X[len(X)-len(test_data)-timestep:]\n",
    "inputs=inputs.values.reshape(-1,1)\n",
    "inputs=scaler.transform(inputs)    #standardizing"
   ]
  },
  {
   "cell_type": "code",
   "execution_count": null,
   "metadata": {
    "execution": {
     "iopub.execute_input": "2021-06-18T19:48:05.770433Z",
     "iopub.status.busy": "2021-06-18T19:48:05.769856Z",
     "iopub.status.idle": "2021-06-18T19:48:05.780066Z",
     "shell.execute_reply": "2021-06-18T19:48:05.779291Z",
     "shell.execute_reply.started": "2021-06-18T19:48:05.770364Z"
    }
   },
   "outputs": [],
   "source": [
    "# preparing sample points for test data\n",
    "x_test=[]\n",
    "y_test=[]\n",
    "for i in range(timestep,inputs.shape[0]):\n",
    "    x_test.append(inputs[i-timestep:i,0])\n",
    "    y_test.append(inputs[i,0])\n",
    "x_test=np.array(x_test)\n",
    "y_test=np.array(y_test)\n",
    "x_test=x_test.reshape(x_test.shape[0],x_test.shape[1],1)"
   ]
  },
  {
   "cell_type": "code",
   "execution_count": null,
   "metadata": {
    "execution": {
     "iopub.execute_input": "2021-06-18T19:48:05.781764Z",
     "iopub.status.busy": "2021-06-18T19:48:05.781315Z",
     "iopub.status.idle": "2021-06-18T19:48:06.207513Z",
     "shell.execute_reply": "2021-06-18T19:48:06.206642Z",
     "shell.execute_reply.started": "2021-06-18T19:48:05.781727Z"
    }
   },
   "outputs": [],
   "source": [
    "pred = reg.predict(x_test)          #predicting on test data\n",
    "rnn_pred=scaler.inverse_transform(pred)        #  inverse transform the standardizing for test sample"
   ]
  },
  {
   "cell_type": "code",
   "execution_count": null,
   "metadata": {
    "execution": {
     "iopub.execute_input": "2021-06-18T19:48:06.209212Z",
     "iopub.status.busy": "2021-06-18T19:48:06.208868Z",
     "iopub.status.idle": "2021-06-18T19:48:06.215703Z",
     "shell.execute_reply": "2021-06-18T19:48:06.214911Z",
     "shell.execute_reply.started": "2021-06-18T19:48:06.209176Z"
    }
   },
   "outputs": [],
   "source": [
    "data_test=np.array(test_data)\n",
    "data_test=data_test.reshape(len(data_test),1)"
   ]
  },
  {
   "cell_type": "code",
   "execution_count": null,
   "metadata": {
    "execution": {
     "iopub.execute_input": "2021-06-18T19:48:06.217426Z",
     "iopub.status.busy": "2021-06-18T19:48:06.217068Z",
     "iopub.status.idle": "2021-06-18T19:48:06.397084Z",
     "shell.execute_reply": "2021-06-18T19:48:06.396299Z",
     "shell.execute_reply.started": "2021-06-18T19:48:06.217389Z"
    }
   },
   "outputs": [],
   "source": [
    "#plot the actual price vs rnn predicted price\n",
    "plt.figure(figsize = (20,7))\n",
    "plt.plot(data_test,'-')\n",
    "plt.plot(rnn_pred,'-')\n",
    "plt.xlabel('Time(days)')\n",
    "plt.ylabel('Price')\n",
    "plt.title('Price vs Time (using SimpleRNN)')\n",
    "plt.legend(['Actual price', 'Predicted price'])\n",
    "plt.show()"
   ]
  },
  {
   "cell_type": "markdown",
   "metadata": {},
   "source": [
    "#### Disadvantages of RNN’s\n",
    "- Gradient exploding and vanishing problems.\n",
    "- Training an RNN is a completely tough task.\n",
    "- It cannot system very lengthy sequences if the usage of Tanh or Relu as an activation feature.\n",
    "\n",
    "It can be difficult to train standard RNNs to solve problems that require learning long-term temporal dependencies. This is because the gradient of the loss function decays exponentially with time (called the vanishing gradient problem).\n",
    "\n",
    "This problem is solved by LSTM..\n",
    "\n",
    "## Long Short Term Memory networks(LSTM):\n",
    "\n",
    "LSTM networks are a type of RNN that uses special units in addition to standard units. LSTM units include a 'memory cell' that can maintain information in memory for long periods of time. A set of gates is used to control when information enters the memory, when it's output, and when it's forgotten. This architecture lets them learn longer-term dependencies.\n",
    "\n",
    "We having following components in LSTM:\n",
    "\n",
    "1. Forget gate:It decides what information should be thrown away or kept. It uses sigmoid function for it , the value closer to 0 means to forget, and the closer to 1 means to keep.\n",
    "\n",
    "<img src='img/forget_gate.gif'/>\n",
    "\n",
    "\n",
    "2. Input gate: It pass the previous hidden state and current input into a sigmoid function.It also pass the hidden state and current input into the tanh function to squish values between -1 and 1 to help regulate the network.Then you multiply the tanh output with the sigmoid output. The sigmoid output will decide which information is important to keep from the tanh output.\n",
    "\n",
    "<img src='img/input_gate.gif'/>\n",
    "\n",
    "3. Cell State: First, the cell state gets pointwise multiplied by the forget vector,it helps to drop values(same as we add dropout in NN ). Then it adds output of input and forget gate nad gives the new cell state for relavent NN.\n",
    "\n",
    "<img src='img/cell_state.gif'/>\n",
    "\n",
    "4. Output gate: It decides what the next hidden state should be,the hidden state contains information on previous inputs, the hidden state is also used for predictions,it perform the same thing as we done for output layer of RNN.\n",
    "\n",
    "\n",
    "<img src='img/output_state.gif'/>\n",
    "\n",
    "For understanding forward and backward propagation follow [here](https://towardsdatascience.com/only-numpy-deriving-forward-feed-and-back-propagation-in-long-short-term-memory-lstm-part-1-4ee82c14a652) and [here](https://colah.github.io/posts/2015-08-Understanding-LSTMs)"
   ]
  },
  {
   "cell_type": "code",
   "execution_count": null,
   "metadata": {
    "execution": {
     "iopub.execute_input": "2021-06-18T19:48:06.398677Z",
     "iopub.status.busy": "2021-06-18T19:48:06.398342Z",
     "iopub.status.idle": "2021-06-18T19:55:00.728944Z",
     "shell.execute_reply": "2021-06-18T19:55:00.728121Z",
     "shell.execute_reply.started": "2021-06-18T19:48:06.398640Z"
    }
   },
   "outputs": [],
   "source": [
    "#init lstm model \n",
    "lstm=Sequential()\n",
    "\n",
    "lstm.add(LSTM(64,input_shape=(x_train.shape[1],1),activation=\"relu\"))\n",
    "\n",
    "\n",
    "lstm.add(Dense(1))\n",
    "\n",
    "lstm.compile(loss=\"mean_squared_error\",optimizer=\"adam\")\n",
    "\n",
    "hist=lstm.fit(x_train,y_train,epochs=100,batch_size=32,validation_split=0.1)"
   ]
  },
  {
   "cell_type": "code",
   "execution_count": null,
   "metadata": {
    "execution": {
     "iopub.execute_input": "2021-06-18T19:55:00.730978Z",
     "iopub.status.busy": "2021-06-18T19:55:00.730632Z",
     "iopub.status.idle": "2021-06-18T19:55:00.753067Z",
     "shell.execute_reply": "2021-06-18T19:55:00.752328Z",
     "shell.execute_reply.started": "2021-06-18T19:55:00.730940Z"
    }
   },
   "outputs": [],
   "source": [
    "lstm.save('/model/timeseries_price_LSTM.h5')"
   ]
  },
  {
   "cell_type": "code",
   "execution_count": null,
   "metadata": {
    "execution": {
     "iopub.execute_input": "2021-06-18T19:55:00.754752Z",
     "iopub.status.busy": "2021-06-18T19:55:00.754381Z",
     "iopub.status.idle": "2021-06-18T19:55:00.914956Z",
     "shell.execute_reply": "2021-06-18T19:55:00.913975Z",
     "shell.execute_reply.started": "2021-06-18T19:55:00.754713Z"
    }
   },
   "outputs": [],
   "source": [
    "#plot loss for LSTM\n",
    "training_loss = hist.history['loss']\n",
    "val_loss = hist.history['val_loss']\n",
    "\n",
    "plt.plot(training_loss,label='training_loss')\n",
    "plt.plot(val_loss,label='val_loss')\n",
    "plt.legend()\n",
    "plt.title('Visualising loss for LSTM',fontsize=18)\n",
    "plt.xlabel('Epochs',fontsize=15)\n",
    "plt.ylabel('Loss',fontsize=15)\n",
    "plt.show()"
   ]
  },
  {
   "cell_type": "code",
   "execution_count": null,
   "metadata": {
    "execution": {
     "iopub.execute_input": "2021-06-18T19:55:00.916750Z",
     "iopub.status.busy": "2021-06-18T19:55:00.916394Z",
     "iopub.status.idle": "2021-06-18T19:55:00.920928Z",
     "shell.execute_reply": "2021-06-18T19:55:00.919691Z",
     "shell.execute_reply.started": "2021-06-18T19:55:00.916709Z"
    }
   },
   "outputs": [],
   "source": [
    "# inputs=X[len(X)-len(test_data)-timestep:]\n",
    "# inputs=inputs.values.reshape(-1,1)\n",
    "# inputs=scaler.transform(inputs)"
   ]
  },
  {
   "cell_type": "code",
   "execution_count": null,
   "metadata": {
    "execution": {
     "iopub.execute_input": "2021-06-18T19:55:00.922771Z",
     "iopub.status.busy": "2021-06-18T19:55:00.922339Z",
     "iopub.status.idle": "2021-06-18T19:55:00.931499Z",
     "shell.execute_reply": "2021-06-18T19:55:00.930780Z",
     "shell.execute_reply.started": "2021-06-18T19:55:00.922734Z"
    }
   },
   "outputs": [],
   "source": [
    "# x_test=[]\n",
    "# y_test=[]\n",
    "# for i in range(timestep,inputs.shape[0]):\n",
    "#     x_test.append(inputs[i-timestep:i,0])\n",
    "#     y_test.append(inputs[i,0])\n",
    "# x_test=np.array(x_test)\n",
    "# y_test=np.array(y_test)\n",
    "# x_test=x_test.reshape(x_test.shape[0],x_test.shape[1],1)"
   ]
  },
  {
   "cell_type": "code",
   "execution_count": null,
   "metadata": {
    "execution": {
     "iopub.execute_input": "2021-06-18T19:55:00.932837Z",
     "iopub.status.busy": "2021-06-18T19:55:00.932491Z",
     "iopub.status.idle": "2021-06-18T19:55:01.167152Z",
     "shell.execute_reply": "2021-06-18T19:55:01.166320Z",
     "shell.execute_reply.started": "2021-06-18T19:55:00.932796Z"
    }
   },
   "outputs": [],
   "source": [
    "pred = lstm.predict(x_test)          #making prediction\n",
    "lstm_pred=scaler.inverse_transform(pred)"
   ]
  },
  {
   "cell_type": "code",
   "execution_count": null,
   "metadata": {
    "execution": {
     "iopub.execute_input": "2021-06-18T19:55:01.174363Z",
     "iopub.status.busy": "2021-06-18T19:55:01.174084Z",
     "iopub.status.idle": "2021-06-18T19:55:01.179115Z",
     "shell.execute_reply": "2021-06-18T19:55:01.178324Z",
     "shell.execute_reply.started": "2021-06-18T19:55:01.174336Z"
    }
   },
   "outputs": [],
   "source": [
    "# data_test=np.array(test_data)\n",
    "# data_test=data_test.reshape(len(data_test),1)"
   ]
  },
  {
   "cell_type": "code",
   "execution_count": null,
   "metadata": {
    "execution": {
     "iopub.execute_input": "2021-06-18T19:55:01.181087Z",
     "iopub.status.busy": "2021-06-18T19:55:01.180715Z",
     "iopub.status.idle": "2021-06-18T19:55:01.194599Z",
     "shell.execute_reply": "2021-06-18T19:55:01.193636Z",
     "shell.execute_reply.started": "2021-06-18T19:55:01.181048Z"
    }
   },
   "outputs": [],
   "source": [
    "print('MSE : ' + str(mean_squared_error(y_test, pred)))\n",
    "rnn_score = r2_score(y_test,pred)\n",
    "print(\"R2 Score of LSTM model = \",rnn_score)"
   ]
  },
  {
   "cell_type": "code",
   "execution_count": null,
   "metadata": {
    "execution": {
     "iopub.execute_input": "2021-06-18T19:55:01.198403Z",
     "iopub.status.busy": "2021-06-18T19:55:01.198129Z",
     "iopub.status.idle": "2021-06-18T19:55:01.381118Z",
     "shell.execute_reply": "2021-06-18T19:55:01.380142Z",
     "shell.execute_reply.started": "2021-06-18T19:55:01.198377Z"
    }
   },
   "outputs": [],
   "source": [
    "#plot actual value vs predicted value for LSTM\n",
    "plt.figure(figsize = (20,7))\n",
    "plt.plot(data_test,'-')\n",
    "plt.plot(lstm_pred,'-')\n",
    "plt.xlabel('Time')\n",
    "plt.ylabel('Price')\n",
    "plt.title(' Price vs Time (using LSTM)')\n",
    "plt.legend(['Actual price', 'Predicted price'])\n",
    "plt.show()"
   ]
  },
  {
   "cell_type": "code",
   "execution_count": null,
   "metadata": {
    "execution": {
     "iopub.execute_input": "2021-06-18T19:55:01.383012Z",
     "iopub.status.busy": "2021-06-18T19:55:01.382665Z",
     "iopub.status.idle": "2021-06-18T19:55:01.570396Z",
     "shell.execute_reply": "2021-06-18T19:55:01.569266Z",
     "shell.execute_reply.started": "2021-06-18T19:55:01.382974Z"
    }
   },
   "outputs": [],
   "source": [
    "# plot actual vs predcited value by RNN vs predicted value by LSTM\n",
    "plt.figure(figsize = (20,7))\n",
    "plt.plot(data_test,'-',label='Actual price')\n",
    "plt.plot(rnn_pred,'-',label='RNN Predicted price')\n",
    "plt.plot(lstm_pred,'-',label='LSTM Predicted price')\n",
    "plt.xlabel('Time')\n",
    "plt.ylabel('Price')\n",
    "plt.title(' Price vs Time (using LSTM)')\n",
    "plt.legend()\n",
    "plt.show()"
   ]
  },
  {
   "cell_type": "markdown",
   "metadata": {},
   "source": [
    "Now we will make prediction for next coming 30 days"
   ]
  },
  {
   "cell_type": "code",
   "execution_count": null,
   "metadata": {
    "execution": {
     "iopub.execute_input": "2021-06-18T20:36:39.029617Z",
     "iopub.status.busy": "2021-06-18T20:36:39.029298Z",
     "iopub.status.idle": "2021-06-18T20:36:39.035669Z",
     "shell.execute_reply": "2021-06-18T20:36:39.034821Z",
     "shell.execute_reply.started": "2021-06-18T20:36:39.029588Z"
    }
   },
   "outputs": [],
   "source": [
    "prediction=x_test[-1]    ##taking the last 30 days datasets to predict data for next 30days"
   ]
  },
  {
   "cell_type": "code",
   "execution_count": null,
   "metadata": {
    "execution": {
     "iopub.execute_input": "2021-06-18T20:36:39.317127Z",
     "iopub.status.busy": "2021-06-18T20:36:39.316813Z",
     "iopub.status.idle": "2021-06-18T20:36:40.353004Z",
     "shell.execute_reply": "2021-06-18T20:36:40.352175Z",
     "shell.execute_reply.started": "2021-06-18T20:36:39.317096Z"
    }
   },
   "outputs": [],
   "source": [
    "for i in range(30):  # looping for 30 days,to predict for next coming days\n",
    "    kl=prediction[i:timestep+i].reshape(1,timestep,1)       \n",
    "    prediction=np.append(prediction,lstm.predict(kl),axis=0)   ##append predicted data using previous 30 days "
   ]
  },
  {
   "cell_type": "code",
   "execution_count": null,
   "metadata": {
    "execution": {
     "iopub.execute_input": "2021-06-18T20:38:48.471347Z",
     "iopub.status.busy": "2021-06-18T20:38:48.471012Z",
     "iopub.status.idle": "2021-06-18T20:38:48.474854Z",
     "shell.execute_reply": "2021-06-18T20:38:48.474079Z",
     "shell.execute_reply.started": "2021-06-18T20:38:48.471317Z"
    }
   },
   "outputs": [],
   "source": [
    "prediction=scaler.inverse_transform(prediction)  "
   ]
  },
  {
   "cell_type": "code",
   "execution_count": null,
   "metadata": {
    "execution": {
     "iopub.execute_input": "2021-06-18T20:42:10.841673Z",
     "iopub.status.busy": "2021-06-18T20:42:10.841325Z",
     "iopub.status.idle": "2021-06-18T20:42:11.010222Z",
     "shell.execute_reply": "2021-06-18T20:42:11.009438Z",
     "shell.execute_reply.started": "2021-06-18T20:42:10.841645Z"
    }
   },
   "outputs": [],
   "source": [
    "#plot price for coming 30 days\n",
    "plt.figure(figsize = (20,7))\n",
    "plt.plot(prediction[30:],'-',label='Predicted price ')\n",
    "\n",
    "plt.xlabel('Days')\n",
    "plt.ylabel('Price')\n",
    "plt.title(' Predicted price of next 30 days ')\n",
    "plt.legend()\n",
    "plt.show()"
   ]
  },
  {
   "cell_type": "markdown",
   "metadata": {},
   "source": [
    "The price of prediced next 30 days, but its decreasing , so market can up and down anytime .As LSTM is based on previous data ,it might be the case that the price on these days might went up but as we had predicted using past 30 days the prices  are decreasing. So one need to look after the market periodically to monitor the prices as it may went up or down , due many circumtances.."
   ]
  },
  {
   "cell_type": "markdown",
   "metadata": {},
   "source": [
    "## Conclusion:\n",
    "- If someone wants to trade in bitcoin then need to watch the prices on daily basis ,because the variation in price for down and up trend are in same proportion , so one need to look for square off for the price trades in order to make profit.\n",
    "- The miner or the investor who had trade bitcoin during the year around 2014 or before 2014 would have more wealth now , because the volume was more and the prices were less,so they have make more profit percentage as compare to 2021.\n",
    "- Highest price trades are made in 2021 ,but the avg. prices was still very less which shows most of the investors are not aggressive trader or who has fear of loss or less domain knowledge.\n",
    "- The Avg. price volume was highest for 2021 and that is for the data of 3 months only ,which represents that even in quarter time we huge trade was occur this year and it may increases by the end of the year.\n",
    "- The growth in prices in starting of 2021 is almost kind of exponential and some of the reports mentioned that it might hit 100K USD by end of year ,so if one wants to trade then he good profit could be made by end of the year.\n",
    "- For a particular day the highest price and lowest price difference is almost negligible as compared to overall change in year or month,which shows those values have significant changes in prices after 24 hours.\n",
    "- The best season to make profit from BTC is winter season , as price for bitcoin get increases for those period in the year. Investor should invest in mid year and sqaure off around new year to make good profit.\n",
    "- In time series analysis, the exponential smoothing method predicts the next period value on the basis of the past value and the current value that why we use RNN,which feeding back output from previous state to the next input in order to memorize the past.\n",
    "- RNN has gradient exploding,vanishing problems , it's difficult to train standard RNNs to solve problems that require learning long-term temporal dependencies.\n",
    "- LSTM networks are a type of RNN that uses special units in addition to standard units and address the drawback of RNN.\n",
    "- From the last graph we can see that LSTM has better prediction and loss descent than RNN and LSTM also uses less NN to train model in comparison to RNN.  "
   ]
  },
  {
   "cell_type": "code",
   "execution_count": null,
   "metadata": {},
   "outputs": [],
   "source": []
  }
 ],
 "metadata": {
  "kernelspec": {
   "display_name": "Python 3",
   "language": "python",
   "name": "python3"
  },
  "language_info": {
   "codemirror_mode": {
    "name": "ipython",
    "version": 3
   },
   "file_extension": ".py",
   "mimetype": "text/x-python",
   "name": "python",
   "nbconvert_exporter": "python",
   "pygments_lexer": "ipython3",
   "version": "3.7.10"
  }
 },
 "nbformat": 4,
 "nbformat_minor": 4
}
